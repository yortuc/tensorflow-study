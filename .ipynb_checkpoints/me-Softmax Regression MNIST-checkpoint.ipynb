{
 "cells": [
  {
   "cell_type": "code",
   "execution_count": 18,
   "metadata": {
    "collapsed": false,
    "scrolled": true
   },
   "outputs": [
    {
     "name": "stdout",
     "output_type": "stream",
     "text": [
      "Extracting tensorflow.org/MNIST_data/train-images-idx3-ubyte.gz\n",
      "Extracting tensorflow.org/MNIST_data/train-labels-idx1-ubyte.gz\n",
      "Extracting tensorflow.org/MNIST_data/t10k-images-idx3-ubyte.gz\n",
      "Extracting tensorflow.org/MNIST_data/t10k-labels-idx1-ubyte.gz\n"
     ]
    }
   ],
   "source": [
    "import tensorflow as tf\n",
    "\n",
    "# MNIST dataset /tensorflow.org/MNIST_data\n",
    "from tensorflow.examples.tutorials.mnist import input_data\n",
    "mnist = input_data.read_data_sets(\"tensorflow.org/MNIST_data/\", one_hot=True)\n",
    "\n",
    "# images data (28x28)pixels -> [55000, 784] \n",
    "# labels (0-9) -> [55000, 10]"
   ]
  },
  {
   "cell_type": "code",
   "execution_count": 14,
   "metadata": {
    "collapsed": false
   },
   "outputs": [],
   "source": [
    "learning_rate = 0.01\n",
    "training_iteration = 30\n",
    "batch_size = 100"
   ]
  },
  {
   "cell_type": "code",
   "execution_count": 15,
   "metadata": {
    "collapsed": true
   },
   "outputs": [],
   "source": [
    "# mnist image size 28x28 pixels -> flattened : 784 pixels vector\n",
    "#\n",
    "# input tensor for model is [None, 784], \n",
    "# where 784 is one image size and None is the number of sample images\n",
    "\n",
    "# output y is a vector in size 10 where each entry is the probabilty of the image to be a particular digit class\n",
    "# y : [None, 10]\n",
    "\n",
    "x = tf.placeholder(tf.float32, [None, 784])\n",
    "y = tf.placeholder(tf.float32, [None, 10]) \n",
    "\n",
    "# model weights\n",
    "W = tf.Variable(tf.zeros([784, 10]))\n",
    "b = tf.Variable(tf.zeros([10]))"
   ]
  },
  {
   "cell_type": "code",
   "execution_count": 16,
   "metadata": {
    "collapsed": false
   },
   "outputs": [],
   "source": [
    "# linear mapping\n",
    "model = tf.nn.softmax(tf.matmul(x, W) + b)\n",
    "\n",
    "# cost func: cross-entropy\n",
    "cost_func = -tf.reduce_sum(y*tf.log(model))\n",
    "optimizer = tf.train.GradientDescentOptimizer(learning_rate).minimize(cost_func)\n",
    "init = tf.initialize_all_variables()"
   ]
  },
  {
   "cell_type": "code",
   "execution_count": 17,
   "metadata": {
    "collapsed": false
   },
   "outputs": [
    {
     "name": "stdout",
     "output_type": "stream",
     "text": [
      "iteration: 0, cost: 16423.2607749\n",
      "iteration: 1, cost: 12094.7434759\n",
      "iteration: 2, cost: 11553.8655567\n",
      "iteration: 3, cost: 11237.4697428\n",
      "iteration: 4, cost: 11100.4497252\n",
      "iteration: 5, cost: 10972.9734635\n",
      "iteration: 6, cost: 10787.829073\n",
      "iteration: 7, cost: 10721.3360729\n",
      "iteration: 8, cost: 10665.0873299\n",
      "iteration: 9, cost: 10548.2390103\n",
      "iteration: 10, cost: 10525.5481858\n",
      "iteration: 11, cost: 10454.0749097\n",
      "iteration: 12, cost: 10398.4693618\n",
      "iteration: 13, cost: 10400.9568624\n",
      "iteration: 14, cost: 10342.3225017\n",
      "iteration: 15, cost: 10310.0430231\n",
      "iteration: 16, cost: 10255.739459\n",
      "iteration: 17, cost: 10230.8293309\n",
      "iteration: 18, cost: 10181.1056085\n",
      "iteration: 19, cost: 10133.3189864\n",
      "iteration: 20, cost: 10185.0210118\n",
      "iteration: 21, cost: 10116.3968563\n",
      "iteration: 22, cost: 10135.9047422\n",
      "iteration: 23, cost: 10093.727211\n",
      "iteration: 24, cost: 10031.4265814\n",
      "iteration: 25, cost: 10036.199419\n",
      "iteration: 26, cost: 9969.55236816\n",
      "iteration: 27, cost: 9936.10947418\n",
      "iteration: 28, cost: 9950.36285925\n",
      "iteration: 29, cost: 9932.75401402\n",
      "Tuning complete. W:[[ 0.  0.  0. ...,  0.  0.  0.]\n",
      " [ 0.  0.  0. ...,  0.  0.  0.]\n",
      " [ 0.  0.  0. ...,  0.  0.  0.]\n",
      " ..., \n",
      " [ 0.  0.  0. ...,  0.  0.  0.]\n",
      " [ 0.  0.  0. ...,  0.  0.  0.]\n",
      " [ 0.  0.  0. ...,  0.  0.  0.]], b:[-1.29573023  1.40752339  0.19748218 -0.6005199   0.1915568   2.45987964\n",
      " -0.6249162   1.50687051 -2.66381192 -0.57827276]\n"
     ]
    }
   ],
   "source": [
    "sess = tf.Session()\n",
    "sess.run(init)\n",
    "\n",
    "for iteration in range(training_iteration):\n",
    "    avg_cost = 0.0\n",
    "    total_batch = int(mnist.train.num_examples/batch_size)\n",
    "\n",
    "    for i in range(total_batch):\n",
    "        batch_xs, batch_ys = mnist.train.next_batch(batch_size)\n",
    "        # Fit training \n",
    "        sess.run(optimizer, feed_dict={x: batch_xs, y: batch_ys})\n",
    "        avg_cost += sess.run(cost_func, feed_dict={x: batch_xs, y: batch_ys})\n",
    "\n",
    "    print 'iteration: {}, cost: {}'.format(iteration, avg_cost)\n",
    "\n",
    "W_final = sess.run(W)\n",
    "b_final = sess.run(b)\n",
    "\n",
    "print 'Tuning complete. W:{}, b:{}'.format(W_final, b_final)"
   ]
  },
  {
   "cell_type": "code",
   "execution_count": 11,
   "metadata": {
    "collapsed": false,
    "scrolled": false
   },
   "outputs": [
    {
     "name": "stdout",
     "output_type": "stream",
     "text": [
      " accuracy: 0.9216\n"
     ]
    }
   ],
   "source": [
    "# test the model\n",
    "predictions = tf.equal(tf.argmax(model,1), tf.argmax(y,1))\n",
    "\n",
    "# calculate accuracy\n",
    "accuracy = tf.reduce_mean(tf.cast(predictions, \"float\"))\n",
    "\n",
    "print 'accuracy:', accuracy.eval({x: mnist.test.images, y:mnist.test.labels}, session=sess)"
   ]
  }
 ],
 "metadata": {
  "kernelspec": {
   "display_name": "Python 2",
   "language": "python",
   "name": "python2"
  },
  "language_info": {
   "codemirror_mode": {
    "name": "ipython",
    "version": 2
   },
   "file_extension": ".py",
   "mimetype": "text/x-python",
   "name": "python",
   "nbconvert_exporter": "python",
   "pygments_lexer": "ipython2",
   "version": "2.7.6"
  }
 },
 "nbformat": 4,
 "nbformat_minor": 0
}
