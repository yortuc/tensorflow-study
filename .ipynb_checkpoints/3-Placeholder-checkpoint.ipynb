{
 "cells": [
  {
   "cell_type": "code",
   "execution_count": 2,
   "metadata": {
    "collapsed": false
   },
   "outputs": [
    {
     "data": {
      "text/plain": [
       "23"
      ]
     },
     "execution_count": 2,
     "metadata": {},
     "output_type": "execute_result"
    }
   ],
   "source": [
    "import tensorflow as tf\n",
    "import numpy as np\n",
    "\n",
    "# create a placeholder vector of length 2 with data type int32\n",
    "a = tf.placeholder(tf.int32, shape=[2], name=\"my_input\")\n",
    "\n",
    "# use placeholder as if it were a normal tensor\n",
    "b = tf.reduce_prod(a, name=\"prod_b\")\n",
    "c = tf.reduce_sum(a, name=\"sum_c\")\n",
    "\n",
    "d = tf.add(b,c, name=\"add_d\")\n",
    "\n",
    "# set placeholder value with input dictionary\n",
    "input_dict = {a: np.array([5,3], dtype=np.int32)}\n",
    "\n",
    "sess = tf.Session()\n",
    "sess.run(d, input_dict)"
   ]
  },
  {
   "cell_type": "code",
   "execution_count": 5,
   "metadata": {
    "collapsed": false
   },
   "outputs": [
    {
     "name": "stdout",
     "output_type": "stream",
     "text": [
      "[[ 0.  0.]\n",
      " [ 0.  0.]]\n"
     ]
    }
   ],
   "source": [
    "zeros = tf.zeros([2,2])\n",
    "print(sess.run(zeros))"
   ]
  },
  {
   "cell_type": "code",
   "execution_count": 7,
   "metadata": {
    "collapsed": false
   },
   "outputs": [
    {
     "name": "stdout",
     "output_type": "stream",
     "text": [
      "[ 1.  1.  1.  1.  1.  1.]\n"
     ]
    }
   ],
   "source": [
    "ones = tf.ones([6])\n",
    "print(sess.run(ones))"
   ]
  },
  {
   "cell_type": "code",
   "execution_count": 10,
   "metadata": {
    "collapsed": false
   },
   "outputs": [
    {
     "name": "stdout",
     "output_type": "stream",
     "text": [
      "[[[ 3.2483232   6.03212833  0.59571505]\n",
      "  [ 4.54951525  0.92116475  4.79532719]\n",
      "  [ 7.77808762  6.73737907  3.27881455]]\n",
      "\n",
      " [[ 0.56090832  0.51157236  8.41667652]\n",
      "  [ 9.12610245  9.06904984  4.04772282]\n",
      "  [ 7.09829092  0.26358604  4.62199688]]\n",
      "\n",
      " [[ 5.30997753  7.74527788  6.42489052]\n",
      "  [ 7.01794052  7.27143383  4.36889076]\n",
      "  [ 3.23258162  9.83875847  9.44861317]]]\n"
     ]
    }
   ],
   "source": [
    "uniform = tf.random_uniform([3,3,3], minval=0, maxval=10)\n",
    "print(sess.run(uniform))"
   ]
  },
  {
   "cell_type": "code",
   "execution_count": 11,
   "metadata": {
    "collapsed": false
   },
   "outputs": [
    {
     "name": "stdout",
     "output_type": "stream",
     "text": [
      "[[ 1.24217892 -4.27860355  2.34351277]\n",
      " [ 2.51908612  3.8074789  -5.05035448]\n",
      " [ 1.67801642 -1.74106085  0.56575263]]\n"
     ]
    }
   ],
   "source": [
    "normal = tf.random_normal([3,3], mean=0.0, stddev=2.0)\n",
    "print(sess.run(normal))"
   ]
  },
  {
   "cell_type": "code",
   "execution_count": 12,
   "metadata": {
    "collapsed": false
   },
   "outputs": [
    {
     "name": "stdout",
     "output_type": "stream",
     "text": [
      "[[ 4.56082201  4.68260145  4.99426794]\n",
      " [ 4.15739441  3.9601202   5.01190519]\n",
      " [ 6.86422491  4.48964691  5.32273722]]\n"
     ]
    }
   ],
   "source": [
    "trunc = tf.truncated_normal([3,3], mean=5.0, stddev=1.0)\n",
    "print(sess.run(trunc))"
   ]
  },
  {
   "cell_type": "code",
   "execution_count": null,
   "metadata": {
    "collapsed": true
   },
   "outputs": [],
   "source": []
  }
 ],
 "metadata": {
  "kernelspec": {
   "display_name": "Python 2",
   "language": "python",
   "name": "python2"
  },
  "language_info": {
   "codemirror_mode": {
    "name": "ipython",
    "version": 2
   },
   "file_extension": ".py",
   "mimetype": "text/x-python",
   "name": "python",
   "nbconvert_exporter": "python",
   "pygments_lexer": "ipython2",
   "version": "2.7.6"
  }
 },
 "nbformat": 4,
 "nbformat_minor": 0
}
