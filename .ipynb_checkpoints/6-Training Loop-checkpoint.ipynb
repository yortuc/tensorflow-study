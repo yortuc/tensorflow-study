{
 "cells": [
  {
   "cell_type": "code",
   "execution_count": null,
   "metadata": {
    "collapsed": true
   },
   "outputs": [],
   "source": [
    "import tensorflow as tf\n",
    "\n",
    "# initialize variables / model-parameters\n",
    "saver = tf.train.Saver()\n",
    "\n",
    "W = tf.Varible(tf.zeros([2,1]), name=\"weights\")\n",
    "b = tf.Varible(0.0, name=\"bias\")\n",
    "\n",
    "# define the training loop operations\n",
    "\n",
    "def inference(X):\n",
    "    # compute the inference model over data X and return result\n",
    "    return tf.matmul(X,W) + b\n",
    "    \n",
    "def loss(X,Y):\n",
    "    # compute the loss (error) over training data X and expected outputs Y\n",
    "    \n",
    "    Y_predicted = inference(X)\n",
    "    \n",
    "    # use squarred error sum (L2) error func here\n",
    "    return tf.reduce_sum(tf.squarred_difference(Y, Y_predicted))\n",
    "    \n",
    "def inputs():\n",
    "    # read/generate input training data X and expected outputs Y\n",
    "    \n",
    "def train(total_loss):\n",
    "    # train/adjust model parameters according to total loss\n",
    "    \n",
    "def evaluate(sess, X, Y):\n",
    "    # evaluate the resulting trained model\n",
    "    \n",
    "# launch the graph in a session, setup boilerplate\n",
    "\n",
    "with tf.Session() as sess:\n",
    "    \n",
    "    tf.initialize_all_variables().run()\n",
    "    \n",
    "    X, Y = inputs()\n",
    "    \n",
    "    total_loss = loss(X, Y)\n",
    "    train_op = train(total_loss)\n",
    "    \n",
    "    coord = tf.train.Coordinator()\n",
    "    threads = tg.start_queue_runners(sess=sess, coord=coord)\n",
    "    \n",
    "    # actual training loop\n",
    "    for step in range(training_steps):\n",
    "        sess.run([train_op])\n",
    "        \n",
    "        # save model parameter values as a checkpoint file to prevent data-loss\n",
    "        # on a memory-loss situation\n",
    "        if step % 1000 == 0:\n",
    "            saver.save(sess, 'my_model', global_step=step)\n",
    "        \n",
    "        # for debugging, see how the loss gets decremented\n",
    "        if step % 10 == 0:\n",
    "            print(\"loss: \", sess.run([total_loss]))\n",
    "    \n",
    "    evaluate(sess, X, Y)\n",
    "    \n",
    "    saver.save(sess, 'my_model', global_step=training_steps)\n",
    "    \n",
    "    coord.request_stop()\n",
    "    coord.join(threads)\n",
    "    sess.close()"
   ]
  },
  {
   "cell_type": "code",
   "execution_count": null,
   "metadata": {
    "collapsed": true
   },
   "outputs": [],
   "source": []
  }
 ],
 "metadata": {
  "kernelspec": {
   "display_name": "Python 2",
   "language": "python",
   "name": "python2"
  },
  "language_info": {
   "codemirror_mode": {
    "name": "ipython",
    "version": 2
   },
   "file_extension": ".py",
   "mimetype": "text/x-python",
   "name": "python",
   "nbconvert_exporter": "python",
   "pygments_lexer": "ipython2",
   "version": "2.7.6"
  }
 },
 "nbformat": 4,
 "nbformat_minor": 0
}
