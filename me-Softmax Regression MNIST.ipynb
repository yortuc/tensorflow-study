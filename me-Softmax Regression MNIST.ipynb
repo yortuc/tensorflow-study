{
 "cells": [
  {
   "cell_type": "code",
   "execution_count": 1,
   "metadata": {
    "collapsed": false
   },
   "outputs": [
    {
     "name": "stdout",
     "output_type": "stream",
     "text": [
      "Extracting tensorflow.org/MNIST_data/train-images-idx3-ubyte.gz\n",
      "Extracting tensorflow.org/MNIST_data/train-labels-idx1-ubyte.gz\n",
      "Extracting tensorflow.org/MNIST_data/t10k-images-idx3-ubyte.gz\n",
      "Extracting tensorflow.org/MNIST_data/t10k-labels-idx1-ubyte.gz\n"
     ]
    }
   ],
   "source": [
    "import tensorflow as tf\n",
    "\n",
    "# MNIST dataset /tensorflow.org/MNIST_data\n",
    "from tensorflow.examples.tutorials.mnist import input_data\n",
    "mnist = input_data.read_data_sets(\"tensorflow.org/MNIST_data/\", one_hot=True)"
   ]
  },
  {
   "cell_type": "code",
   "execution_count": 2,
   "metadata": {
    "collapsed": false
   },
   "outputs": [],
   "source": [
    "learning_rate = 0.01\n",
    "training_iteration = 30\n",
    "batch_size = 100"
   ]
  },
  {
   "cell_type": "code",
   "execution_count": 3,
   "metadata": {
    "collapsed": true
   },
   "outputs": [],
   "source": [
    "# mnist image size 28x28 pixels -> flattened : 784 pixels vector\n",
    "#\n",
    "# input tensor for model is [None, 784], \n",
    "# where 784 is one image size and None is the number of sample images\n",
    "\n",
    "# output y is a vector in size 10 where each entry is the probabilty of the image to be a particular digit class\n",
    "# y : [None, 10]\n",
    "\n",
    "x = tf.placeholder(\"float\", [None, 784])\n",
    "y = tf.placeholder(\"float\", [None, 10]) \n",
    "\n",
    "# model weights\n",
    "W = tf.Variable(tf.zeros([784, 10]))\n",
    "b = tf.Variable(tf.zeros([10]))"
   ]
  },
  {
   "cell_type": "code",
   "execution_count": 12,
   "metadata": {
    "collapsed": false
   },
   "outputs": [],
   "source": [
    "# linear mapping\n",
    "model = tf.nn.softmax(tf.matmul(x, W) + b)\n",
    "\n",
    "# cost func: cross-entropy\n",
    "cost_func = -tf.reduce_sum(y*tf.log(model))\n",
    "optimizer = tf.train.GradientDescentOptimizer(learning_rate).minimize(cost_func)\n",
    "init = tf.initialize_all_variables()"
   ]
  },
  {
   "cell_type": "code",
   "execution_count": 9,
   "metadata": {
    "collapsed": false
   },
   "outputs": [
    {
     "name": "stdout",
     "output_type": "stream",
     "text": [
      "iteration: 0, cost: 16680.3178692\n",
      "iteration: 1, cost: 12113.5113769\n",
      "iteration: 2, cost: 11549.4481869\n",
      "iteration: 3, cost: 11291.3253365\n",
      "iteration: 4, cost: 11080.7593131\n",
      "iteration: 5, cost: 10982.7543373\n",
      "iteration: 6, cost: 10846.6068673\n",
      "iteration: 7, cost: 10735.5253568\n",
      "iteration: 8, cost: 10707.2234573\n",
      "iteration: 9, cost: 10574.6414142\n",
      "iteration: 10, cost: 10498.8448844\n",
      "iteration: 11, cost: 10508.7192483\n",
      "iteration: 12, cost: 10384.72648\n",
      "iteration: 13, cost: 10345.682023\n",
      "iteration: 14, cost: 10315.6081524\n",
      "iteration: 15, cost: 10226.5007181\n",
      "iteration: 16, cost: 10258.2032261\n",
      "iteration: 17, cost: 10205.2710767\n",
      "iteration: 18, cost: 10174.1454639\n",
      "iteration: 19, cost: 10156.6100426\n",
      "iteration: 20, cost: 10116.5616221\n",
      "iteration: 21, cost: 10102.2485747\n",
      "iteration: 22, cost: 10089.0355406\n",
      "iteration: 23, cost: 10062.479455\n",
      "iteration: 24, cost: 10069.4859571\n",
      "iteration: 25, cost: 10064.8872075\n",
      "iteration: 26, cost: 10009.5470757\n",
      "iteration: 27, cost: 9922.85915422\n",
      "iteration: 28, cost: 9980.85851479\n",
      "iteration: 29, cost: 9946.99026299\n",
      "Tuning complete. W:[[ 0.  0.  0. ...,  0.  0.  0.]\n",
      " [ 0.  0.  0. ...,  0.  0.  0.]\n",
      " [ 0.  0.  0. ...,  0.  0.  0.]\n",
      " ..., \n",
      " [ 0.  0.  0. ...,  0.  0.  0.]\n",
      " [ 0.  0.  0. ...,  0.  0.  0.]\n",
      " [ 0.  0.  0. ...,  0.  0.  0.]], b:[-1.32500267  1.42099583  0.18449646 -0.68735296  0.17812714  2.48339224\n",
      " -0.61962897  1.45632493 -2.56630898 -0.52496904]\n"
     ]
    }
   ],
   "source": [
    "sess = tf.Session()\n",
    "sess.run(init)\n",
    "\n",
    "for iteration in range(training_iteration):\n",
    "    avg_cost = 0.0\n",
    "    total_batch = int(mnist.train.num_examples/batch_size)\n",
    "\n",
    "    for i in range(total_batch):\n",
    "        batch_xs, batch_ys = mnist.train.next_batch(batch_size)\n",
    "        # Fit training \n",
    "        sess.run(optimizer, feed_dict={x: batch_xs, y: batch_ys})\n",
    "        avg_cost += sess.run(cost_func, feed_dict={x: batch_xs, y: batch_ys})\n",
    "\n",
    "    print 'iteration: {}, cost: {}'.format(iteration, avg_cost)\n",
    "\n",
    "W_final = sess.run(W)\n",
    "b_final = sess.run(b)\n",
    "\n",
    "print 'Tuning complete. W:{}, b:{}'.format(W_final, b_final)"
   ]
  },
  {
   "cell_type": "code",
   "execution_count": 11,
   "metadata": {
    "collapsed": false,
    "scrolled": false
   },
   "outputs": [
    {
     "name": "stdout",
     "output_type": "stream",
     "text": [
      " accuracy: 0.9216\n"
     ]
    }
   ],
   "source": [
    "# test the model\n",
    "predictions = tf.equal(tf.argmax(model,1), tf.argmax(y,1))\n",
    "\n",
    "# calculate accuracy\n",
    "accuracy = tf.reduce_mean(tf.cast(predictions, \"float\"))\n",
    "\n",
    "print 'accuracy:', accuracy.eval({x: mnist.test.images, y:mnist.test.labels}, session=sess)"
   ]
  }
 ],
 "metadata": {
  "kernelspec": {
   "display_name": "Python 2",
   "language": "python",
   "name": "python2"
  },
  "language_info": {
   "codemirror_mode": {
    "name": "ipython",
    "version": 2
   },
   "file_extension": ".py",
   "mimetype": "text/x-python",
   "name": "python",
   "nbconvert_exporter": "python",
   "pygments_lexer": "ipython2",
   "version": "2.7.6"
  }
 },
 "nbformat": 4,
 "nbformat_minor": 0
}
