{
 "cells": [
  {
   "cell_type": "code",
   "execution_count": 31,
   "metadata": {
    "collapsed": false
   },
   "outputs": [
    {
     "name": "stdout",
     "output_type": "stream",
     "text": [
      "[  1.   2.   3.   4.   5.   6.   7.   8.   9.  10.  11.  12.  13.  14.  15.\n",
      "  16.  17.  18.  19.  20.] [ -2.03097385  -0.31611893   5.86587461   7.24672405   9.02311773\n",
      "  12.63132251   6.38046851  12.32253974  14.79571231  16.01738447\n",
      "  15.77173806  17.70624348  17.99512492  19.24428602  20.43170064\n",
      "  19.89528122  18.53554356  27.66685536  24.58667805  27.78867175]\n"
     ]
    },
    {
     "data": {
      "image/png": "[encoded data removed]",
      "text/plain": [
       "<matplotlib.figure.Figure at 0x7f6f903ea310>"
      ]
     },
     "metadata": {},
     "output_type": "display_data"
    }
   ],
   "source": [
    "import tensorflow as tf\n",
    "import numpy as np\n",
    "import matplotlib.pyplot as plt\n",
    "%matplotlib inline\n",
    "\n",
    "# imput data W=1.4, b=2~0\n",
    "x_data = np.linspace(1.0, 20.0, 20)\n",
    "y_data = 1.4*x_data + 2* np.random.randn(*x_data.shape)\n",
    "print x_data, y_data\n",
    "\n",
    "plt.plot(x_data,y_data,'o')\n",
    "plt.show()"
   ]
  },
  {
   "cell_type": "code",
   "execution_count": 34,
   "metadata": {
    "collapsed": false
   },
   "outputs": [
    {
     "name": "stdout",
     "output_type": "stream",
     "text": [
      "1.35813 0.256206\n"
     ]
    }
   ],
   "source": [
    "# weight and bias\n",
    "W = tf.Variable(0.0)\n",
    "b = tf.Variable(0.0)\n",
    "\n",
    "# model\n",
    "y = W * x_data + b\n",
    "\n",
    "# cost func\n",
    "cost = tf.reduce_mean(tf.square(y-y_data))\n",
    "\n",
    "# optimizer\n",
    "optimizer = tf.train.GradientDescentOptimizer(0.001)\n",
    "train = optimizer.minimize(cost)\n",
    "\n",
    "# init session\n",
    "init = tf.initialize_all_variables()\n",
    "\n",
    "sess = tf.Session()\n",
    "sess.run(init)\n",
    "\n",
    "for step in xrange(0,1000):\n",
    "    sess.run(train)\n",
    "\n",
    "print sess.run(W), sess.run(b)"
   ]
  },
  {
   "cell_type": "code",
   "execution_count": 35,
   "metadata": {
    "collapsed": false
   },
   "outputs": [
    {
     "data": {
      "text/plain": [
       "[<matplotlib.lines.Line2D at 0x7f6f85e25d50>,\n",
       " <matplotlib.lines.Line2D at 0x7f6f85e25f90>]"
      ]
     },
     "execution_count": 35,
     "metadata": {},
     "output_type": "execute_result"
    },
    {
     "data": {
      "image/png": "[encoded data removed]",
      "text/plain": [
       "<matplotlib.figure.Figure at 0x7f6f862e7a90>"
      ]
     },
     "metadata": {},
     "output_type": "display_data"
    }
   ],
   "source": [
    "# test\n",
    "x_test = np.linspace(1.0, 20.0, 20)\n",
    "y_test_computed = sess.run(W) * x_test + sess.run(b)\n",
    "\n",
    "plt.plot(x_data,y_data, 'o', x_test, y_test_computed, '*')"
   ]
  },
  {
   "cell_type": "code",
   "execution_count": null,
   "metadata": {
    "collapsed": true
   },
   "outputs": [],
   "source": []
  }
 ],
 "metadata": {
  "kernelspec": {
   "display_name": "Python 2",
   "language": "python",
   "name": "python2"
  },
  "language_info": {
   "codemirror_mode": {
    "name": "ipython",
    "version": 2
   },
   "file_extension": ".py",
   "mimetype": "text/x-python",
   "name": "python",
   "nbconvert_exporter": "python",
   "pygments_lexer": "ipython2",
   "version": "2.7.6"
  }
 },
 "nbformat": 4,
 "nbformat_minor": 0
}
