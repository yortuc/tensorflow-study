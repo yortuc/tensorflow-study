{
 "cells": [
  {
   "cell_type": "code",
   "execution_count": 9,
   "metadata": {
    "collapsed": false
   },
   "outputs": [
    {
     "name": "stdout",
     "output_type": "stream",
     "text": [
      "['X:', array([ 0.77217817,  0.5483852 ,  0.10647112,  0.09893812,  0.69914222,\n",
      "        0.49602109,  0.93975985,  0.41953072,  0.1418681 ,  0.98292691,\n",
      "        0.99094152,  0.14138776,  0.36265269,  0.77571082,  0.22751921,\n",
      "        0.62489563,  0.16269773,  0.15837106,  0.75989902,  0.64506358,\n",
      "        0.25670594,  0.27152842,  0.84367365,  0.91518736,  0.54170972,\n",
      "        0.72865516,  0.40612572,  0.11585747,  0.22650249,  0.40232283,\n",
      "        0.54256946,  0.04472181,  0.0957404 ,  0.44065434,  0.57741809,\n",
      "        0.66723949,  0.38513592,  0.8204475 ,  0.09791416,  0.00603648,\n",
      "        0.11545988,  0.32465261,  0.88804817,  0.99185115,  0.21303461,\n",
      "        0.10450882,  0.8299771 ,  0.86725831,  0.6559329 ,  0.69493985,\n",
      "        0.15502255,  0.9748022 ,  0.45992175,  0.69228184,  0.90508997,\n",
      "        0.4571375 ,  0.33751521,  0.56404185,  0.57011849,  0.82707787,\n",
      "        0.80175072,  0.21579257,  0.57779008,  0.78809446,  0.99606192,\n",
      "        0.29098091,  0.43947071,  0.77175331,  0.481951  ,  0.38418368,\n",
      "        0.51483595,  0.01349572,  0.3119857 ,  0.5121702 ,  0.04697729,\n",
      "        0.36535871,  0.06909315,  0.95908761,  0.15581067,  0.98450387,\n",
      "        0.37647355,  0.18317759,  0.08758207,  0.28321153,  0.18457778,\n",
      "        0.56720948,  0.54361093,  0.47658646,  0.02351975,  0.79186165,\n",
      "        0.42670983,  0.78009301,  0.5826599 ,  0.89328176,  0.33322793,\n",
      "        0.67876714,  0.8878026 ,  0.56594545,  0.19232415,  0.78570205], dtype=float32)]\n",
      "('Y:', array([ 0.37721783,  0.35483852,  0.31064713,  0.30989382,  0.36991423,\n",
      "        0.34960213,  0.393976  ,  0.3419531 ,  0.31418681,  0.39829272,\n",
      "        0.39909416,  0.3141388 ,  0.33626527,  0.37757111,  0.32275194,\n",
      "        0.36248958,  0.31626979,  0.31583712,  0.37598991,  0.36450636,\n",
      "        0.3256706 ,  0.32715285,  0.38436738,  0.39151874,  0.35417098,\n",
      "        0.37286553,  0.34061259,  0.31158575,  0.32265025,  0.34023228,\n",
      "        0.35425696,  0.30447221,  0.30957404,  0.34406546,  0.35774183,\n",
      "        0.36672395,  0.33851361,  0.38204476,  0.30979142,  0.30060366,\n",
      "        0.311546  ,  0.33246526,  0.38880482,  0.39918512,  0.32130349,\n",
      "        0.31045088,  0.38299772,  0.38672584,  0.36559331,  0.36949399,\n",
      "        0.31550226,  0.39748025,  0.34599218,  0.36922818,  0.39050901,\n",
      "        0.34571376,  0.33375153,  0.35640419,  0.35701185,  0.3827078 ,\n",
      "        0.38017508,  0.32157928,  0.35777903,  0.37880945,  0.3996062 ,\n",
      "        0.32909811,  0.34394708,  0.37717533,  0.34819511,  0.33841836,\n",
      "        0.35148361,  0.30134958,  0.33119857,  0.35121703,  0.30469775,\n",
      "        0.33653587,  0.30690932,  0.39590877,  0.31558108,  0.3984504 ,\n",
      "        0.33764738,  0.31831777,  0.30875823,  0.32832116,  0.31845778,\n",
      "        0.35672095,  0.35436112,  0.34765866,  0.30235198,  0.37918618,\n",
      "        0.34267101,  0.37800932,  0.358266  ,  0.38932818,  0.33332279,\n",
      "        0.36787674,  0.38878027,  0.35659456,  0.31923243,  0.37857023], dtype=float32))\n"
     ]
    }
   ],
   "source": [
    "import tensorflow as tf\n",
    "import numpy as np\n",
    "\n",
    "# Create 100 phony x, y data points in NumPy, y = x * 0.1 + 0.3\n",
    "x_data = np.random.rand(100).astype(np.float32)\n",
    "y_data = x_data * 0.1 + 0.3\n",
    "\n",
    "print(\"X:\", x_data)\n",
    "print(\"Y:\", y_data)"
   ]
  },
  {
   "cell_type": "code",
   "execution_count": 10,
   "metadata": {
    "collapsed": false
   },
   "outputs": [
    {
     "name": "stdout",
     "output_type": "stream",
     "text": [
      "(0, array([ 0.59004009], dtype=float32), array([ 0.04807909], dtype=float32))\n",
      "(20, array([ 0.2191762], dtype=float32), array([ 0.23684199], dtype=float32))\n",
      "(40, array([ 0.1291749], dtype=float32), array([ 0.28453863], dtype=float32))\n",
      "(60, array([ 0.10714216], dtype=float32), array([ 0.296215], dtype=float32))\n",
      "(80, array([ 0.10174844], dtype=float32), array([ 0.29907343], dtype=float32))\n",
      "(100, array([ 0.10042803], dtype=float32), array([ 0.29977316], dtype=float32))\n",
      "(120, array([ 0.10010478], dtype=float32), array([ 0.29994449], dtype=float32))\n",
      "(140, array([ 0.10002565], dtype=float32), array([ 0.29998642], dtype=float32))\n",
      "(160, array([ 0.10000629], dtype=float32), array([ 0.29999667], dtype=float32))\n",
      "(180, array([ 0.10000154], dtype=float32), array([ 0.29999918], dtype=float32))\n",
      "(200, array([ 0.1000004], dtype=float32), array([ 0.2999998], dtype=float32))\n"
     ]
    }
   ],
   "source": [
    "# Try to find values for W and b that compute y_data = W * x_data + b\n",
    "# (We know that W should be 0.1 and b 0.3, but TensorFlow will\n",
    "# figure that out for us.)\n",
    "W = tf.Variable(tf.random_uniform([1], -1.0, 1.0))\n",
    "b = tf.Variable(tf.zeros([1]))\n",
    "y = W * x_data + b\n",
    "\n",
    "# Minimize the mean squared errors.\n",
    "loss = tf.reduce_mean(tf.square(y - y_data))\n",
    "optimizer = tf.train.GradientDescentOptimizer(0.5)\n",
    "train = optimizer.minimize(loss)\n",
    "\n",
    "# Before starting, initialize the variables.  We will 'run' this first.\n",
    "init = tf.initialize_all_variables()\n",
    "\n",
    "# Launch the graph.\n",
    "sess = tf.Session()\n",
    "sess.run(init)\n",
    "\n",
    "# Fit the line.\n",
    "for step in range(201):\n",
    "    sess.run(train)\n",
    "    if step % 20 == 0:\n",
    "        print(step, sess.run(W), sess.run(b))\n",
    "\n",
    "# Learns best fit is W: [0.1], b: [0.3]"
   ]
  },
  {
   "cell_type": "code",
   "execution_count": null,
   "metadata": {
    "collapsed": true
   },
   "outputs": [],
   "source": []
  }
 ],
 "metadata": {
  "kernelspec": {
   "display_name": "Python 2",
   "language": "python",
   "name": "python2"
  },
  "language_info": {
   "codemirror_mode": {
    "name": "ipython",
    "version": 2
   },
   "file_extension": ".py",
   "mimetype": "text/x-python",
   "name": "python",
   "nbconvert_exporter": "python",
   "pygments_lexer": "ipython2",
   "version": "2.7.6"
  }
 },
 "nbformat": 4,
 "nbformat_minor": 0
}
