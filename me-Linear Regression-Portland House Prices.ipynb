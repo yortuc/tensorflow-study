{
 "cells": [
  {
   "cell_type": "code",
   "execution_count": 29,
   "metadata": {
    "collapsed": false
   },
   "outputs": [],
   "source": [
    "import tensorflow as tf\n",
    "import numpy as np\n",
    "import matplotlib.pyplot as plt\n",
    "%matplotlib inline"
   ]
  },
  {
   "cell_type": "code",
   "execution_count": 30,
   "metadata": {
    "collapsed": false
   },
   "outputs": [
    {
     "data": {
      "image/png": "[encoded data removed]",
      "text/plain": [
       "<matplotlib.figure.Figure at 0x7f9ea373cad0>"
      ]
     },
     "metadata": {},
     "output_type": "display_data"
    }
   ],
   "source": [
    "# data : house prices in portlan oregon\n",
    "\n",
    "size_data = np.asarray([ 2104,  1600,  2400,  1416,  3000,  1985,  1534,  1427,\n",
    "                           1380,  1494,  1940,  2000,  1890,  4478,  1268,  2300,\n",
    "                           1320,  1236,  2609,  3031,  1767,  1888,  1604,  1962,\n",
    "                           3890,  1100,  1458,  2526,  2200,  2637,  1839,  1000,\n",
    "                           2040,  3137,  1811,  1437,  1239,  2132,  4215,  2162,\n",
    "                           1664,  2238,  2567,  1200,   852,  1852,  1203 ])\n",
    "\n",
    "price_data = np.asarray([ 399900,  329900,  369000,  232000,  539900,  299900,  314900,  198999,\n",
    "                            212000,  242500,  239999,  347000,  329999,  699900,  259900,  449900,\n",
    "                            299900,  199900,  499998,  599000,  252900,  255000,  242900,  259900,\n",
    "                            573900,  249900,  464500,  469000,  475000,  299900,  349900,  169900,\n",
    "                            314900,  579900,  285900,  249900,  229900,  345000,  549000,  287000,\n",
    "                            368500,  329900,  314000,  299000,  179900,  299900,  239500 ])\n",
    "\n",
    "plt.plot(size_data, price_data, 'ro', label='house prices with size')\n",
    "plt.show()"
   ]
  },
  {
   "cell_type": "code",
   "execution_count": 45,
   "metadata": {
    "collapsed": false
   },
   "outputs": [
    {
     "data": {
      "image/png": "[encoded data removed]",
      "text/plain": [
       "<matplotlib.figure.Figure at 0x7f9ea2cde810>"
      ]
     },
     "metadata": {},
     "output_type": "display_data"
    }
   ],
   "source": [
    "def normalize(array):\n",
    "    return (array - array.mean())/array.std()\n",
    "\n",
    "# normalize input data\n",
    "size_data_n = normalize(size_data)\n",
    "price_data_n = normalize(price_data)\n",
    "\n",
    "plt.plot(size_data_n, price_data_n, 'ro')\n",
    "plt.show()"
   ]
  },
  {
   "cell_type": "code",
   "execution_count": 49,
   "metadata": {
    "collapsed": false,
    "scrolled": false
   },
   "outputs": [
    {
     "name": "stdout",
     "output_type": "stream",
     "text": [
      "iteration: 0 W: [ 0.01709975] b:[ -1.49011609e-10]\n",
      "iteration: 10 W: [ 0.17037222] b:[ -1.04308129e-09]\n",
      "iteration: 20 W: [ 0.29560694] b:[ -1.49011603e-09]\n",
      "iteration: 30 W: [ 0.39793283] b:[ -1.11758713e-09]\n",
      "iteration: 40 W: [ 0.48154056] b:[ -2.38418574e-09]\n",
      "iteration: 50 W: [ 0.54985416] b:[ -3.27825544e-09]\n",
      "iteration: 60 W: [ 0.60567141] b:[ -4.69386530e-09]\n",
      "iteration: 70 W: [ 0.65127814] b:[ -5.60656055e-09]\n",
      "iteration: 80 W: [ 0.68854213] b:[ -6.94766467e-09]\n",
      "iteration: 90 W: [ 0.71898955] b:[ -8.04662559e-09]\n",
      "iteration: 100 W: [ 0.74386728] b:[ -9.20146626e-09]\n",
      "iteration: 110 W: [ 0.76419413] b:[ -9.12695963e-09]\n",
      "iteration: 120 W: [ 0.78080273] b:[ -1.00489697e-08]\n",
      "iteration: 130 W: [ 0.79437315] b:[ -9.85339188e-09]\n",
      "iteration: 140 W: [ 0.80546123] b:[ -1.06822684e-08]\n",
      "iteration: 150 W: [ 0.8145209] b:[ -1.08778453e-08]\n",
      "iteration: 160 W: [ 0.82192338] b:[ -1.15670229e-08]\n",
      "iteration: 170 W: [ 0.82797176] b:[ -1.24890329e-08]\n",
      "iteration: 180 W: [ 0.8329137] b:[ -1.34762352e-08]\n",
      "iteration: 190 W: [ 0.83695155] b:[ -1.44634376e-08]\n",
      "Final W:[ 0.83995008], b: [ -1.46962673e-08]\n"
     ]
    },
    {
     "data": {
      "image/png": "[encoded data removed]",
      "text/plain": [
       "<matplotlib.figure.Figure at 0x7f9ea32fc990>"
      ]
     },
     "metadata": {},
     "output_type": "display_data"
    }
   ],
   "source": [
    "# model\n",
    "W = tf.Variable(tf.zeros([1]))\n",
    "b = tf.Variable(tf.zeros([1]))\n",
    "\n",
    "# linear model : Y = WX + b\n",
    "y = W * size_data_n + b\n",
    "\n",
    "# cost func\n",
    "loss = tf.reduce_mean(tf.square(y-price_data_n))\n",
    "optimizer = tf.train.GradientDescentOptimizer(0.01).minimize(loss)\n",
    "\n",
    "init = tf.initialize_all_variables()\n",
    "\n",
    "with tf.Session() as sess:\n",
    "    sess.run(init)\n",
    "    \n",
    "    for step in xrange(200):\n",
    "        sess.run(optimizer)\n",
    "        if step % 10 == 0:\n",
    "            print 'iteration: {} W: {} b:{}'.format(step, sess.run(W), sess.run(b))\n",
    "    \n",
    "    W_final = sess.run(W)\n",
    "    b_final = sess.run(b)\n",
    "    print 'Final W:{}, b: {}'.format(W_final, b_final)\n",
    "\n",
    "\n",
    "plt.figure()\n",
    "plt.plot(size_data_n, price_data_n, 'ro', label='input data')\n",
    "plt.plot(size_data_n, W_final*size_data_n+b_final, label='predicted')\n",
    "plt.legend()\n",
    "plt.show()\n"
   ]
  },
  {
   "cell_type": "code",
   "execution_count": null,
   "metadata": {
    "collapsed": true
   },
   "outputs": [],
   "source": []
  }
 ],
 "metadata": {
  "kernelspec": {
   "display_name": "Python 2",
   "language": "python",
   "name": "python2"
  },
  "language_info": {
   "codemirror_mode": {
    "name": "ipython",
    "version": 2
   },
   "file_extension": ".py",
   "mimetype": "text/x-python",
   "name": "python",
   "nbconvert_exporter": "python",
   "pygments_lexer": "ipython2",
   "version": "2.7.6"
  }
 },
 "nbformat": 4,
 "nbformat_minor": 0
}
