{
 "cells": [
  {
   "cell_type": "code",
   "execution_count": 54,
   "metadata": {
    "collapsed": false
   },
   "outputs": [
    {
     "name": "stdout",
     "output_type": "stream",
     "text": [
      "[  0.           1.11111111   2.22222222   3.33333333   4.44444444\n",
      "   5.55555556   6.66666667   7.77777778   8.88888889  10.        ] [  0.           2.22222222   4.44444444   6.66666667   8.88888889\n",
      "  11.11111111  13.33333333  15.55555556  17.77777778  20.        ]\n"
     ]
    }
   ],
   "source": [
    "import tensorflow as tf\n",
    "\n",
    "x_data = np.linspace(0.0, 10.0, 10)\n",
    "y_data = 2 * x_data \n",
    "\n",
    "print x_data, y_data"
   ]
  },
  {
   "cell_type": "code",
   "execution_count": 59,
   "metadata": {
    "collapsed": false
   },
   "outputs": [
    {
     "name": "stdout",
     "output_type": "stream",
     "text": [
      "1.99986 0.000948724\n"
     ]
    }
   ],
   "source": [
    "# weight\n",
    "W = tf.Variable(0.0)\n",
    "\n",
    "# bias\n",
    "b = tf.Variable(0.0)\n",
    "\n",
    "# model: linear-regression\n",
    "y = W * x_data + b\n",
    "\n",
    "# cost func\n",
    "loss = tf.reduce_mean(tf.square(y-y_data))\n",
    "\n",
    "# training algorithm\n",
    "optimizer = tf.train.GradientDescentOptimizer(0.01)\n",
    "train = optimizer.minimize(loss)\n",
    "\n",
    "# initialize the variables\n",
    "init = tf.initialize_all_variables()\n",
    "\n",
    "# start session, init\n",
    "sess = tf.Session()\n",
    "sess.run(init)\n",
    "\n",
    "# train the line\n",
    "for step in xrange(1000):\n",
    "    sess.run(train)\n",
    "    \n",
    "print sess.run(W), sess.run(b)"
   ]
  },
  {
   "cell_type": "code",
   "execution_count": 63,
   "metadata": {
    "collapsed": false
   },
   "outputs": [
    {
     "data": {
      "image/png": "[encoded data removed]",
      "text/plain": [
       "<matplotlib.figure.Figure at 0x7f2d1928ac10>"
      ]
     },
     "metadata": {},
     "output_type": "display_data"
    }
   ],
   "source": [
    "# test\n",
    "x_test = np.linspace(5.0,15.0,10)\n",
    "y_test_computed = sess.run(W) * x_test + sess.run(b) \n",
    "\n",
    "plt.plot(x_data,y_data,'o',x_test,y_test_computed, '*')\n",
    "plt.show()"
   ]
  },
  {
   "cell_type": "code",
   "execution_count": null,
   "metadata": {
    "collapsed": true
   },
   "outputs": [],
   "source": []
  }
 ],
 "metadata": {
  "kernelspec": {
   "display_name": "Python 2",
   "language": "python",
   "name": "python2"
  },
  "language_info": {
   "codemirror_mode": {
    "name": "ipython",
    "version": 2
   },
   "file_extension": ".py",
   "mimetype": "text/x-python",
   "name": "python",
   "nbconvert_exporter": "python",
   "pygments_lexer": "ipython2",
   "version": "2.7.6"
  }
 },
 "nbformat": 4,
 "nbformat_minor": 0
}
